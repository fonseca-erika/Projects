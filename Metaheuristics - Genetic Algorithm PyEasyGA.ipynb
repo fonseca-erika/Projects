{
 "cells": [
  {
   "cell_type": "markdown",
   "metadata": {},
   "source": [
    "<h1><div class=\"alert alert-block alert-info\">\n",
    "Genetic Algorithm\n",
    "</div></h1>"
   ]
  },
  {
   "cell_type": "markdown",
   "metadata": {},
   "source": [
    "<font face = \"Times\">The genetic algorithm is a method for solving both constrained and unconstrained optimization problems that is based on natural selection, the process that drives biological evolution. The genetic algorithm repeatedly modifies a population of individual solutions. At each step, the genetic algorithm selects individuals at random from the current population to be parents and uses them to produce the children for the next generation. Over successive generations, the population \"evolves\" toward an optimal solution. You can apply the genetic algorithm to solve a variety of optimization problems that are not well suited for standard optimization algorithms, including problems in which the objective function is discontinuous, nondifferentiable, stochastic, or highly nonlinear. The genetic algorithm can address problems of mixed integer programming, where some components are restricted to be integer-valued.\n",
    "\n",
    "Source: https://fr.mathworks.com/help/gads/what-is-the-genetic-algorithm.html\n",
    "\n",
    "The genetic algorithm iterates using three methods: selection, crossover and mutation, as presented in the digram below:\n",
    "\n",
    "<img src=\"https://www.researchgate.net/profile/Peter_Steininger/publication/224123710/figure/fig1/AS:302573300011018@1449150504752/Principal-flow-of-a-Genetic-Algorithm-following-Goldberg-1989.png\">\n",
    "\n",
    "Source: https://www.researchgate.net/profile/Peter_Steininger/publication/224123710/figure/fig1/AS:302573300011018@1449150504752/Principal-flow-of-a-Genetic-Algorithm-following-Goldberg-1989.png \n",
    "\n",
    "The assessment of the quality of the population is measured through a fitness function, that must have the capacity to apply penalty to solutions that do not meet the constraints.</font>"
   ]
  },
  {
   "cell_type": "code",
   "execution_count": 1,
   "metadata": {},
   "outputs": [
    {
     "name": "stdout",
     "output_type": "stream",
     "text": [
      "Processing c:\\users\\fonse\\appdata\\local\\pip\\cache\\wheels\\ef\\cf\\ef\\7aff9fcd6c1e59dc276182f29a32e7c197665dd5eb547f30e6\\pyeasyga-0.3.1-py2.py3-none-any.whl\n",
      "Requirement already satisfied: six in c:\\users\\fonse\\pythonenvs\\myenv\\lib\\site-packages (from pyeasyga) (1.14.0)\n",
      "Installing collected packages: pyeasyga\n",
      "Successfully installed pyeasyga-0.3.1\n",
      "Collecting pandas\n",
      "  Downloading pandas-0.25.3-cp37-cp37m-win_amd64.whl (9.2 MB)\n",
      "Requirement already satisfied: numpy>=1.13.3 in c:\\users\\fonse\\pythonenvs\\myenv\\lib\\site-packages (from pandas) (1.18.1)\n",
      "Requirement already satisfied: python-dateutil>=2.6.1 in c:\\users\\fonse\\pythonenvs\\myenv\\lib\\site-packages (from pandas) (2.8.1)\n",
      "Collecting pytz>=2017.2\n",
      "  Using cached pytz-2019.3-py2.py3-none-any.whl (509 kB)\n",
      "Requirement already satisfied: six>=1.5 in c:\\users\\fonse\\pythonenvs\\myenv\\lib\\site-packages (from python-dateutil>=2.6.1->pandas) (1.14.0)\n",
      "Installing collected packages: pytz, pandas\n",
      "Successfully installed pandas-0.25.3 pytz-2019.3\n"
     ]
    },
    {
     "name": "stderr",
     "output_type": "stream",
     "text": [
      "ERROR: Could not find a version that satisfies the requirement random (from versions: none)\n",
      "ERROR: No matching distribution found for random\n"
     ]
    }
   ],
   "source": [
    "#Used to install packages on the Python environment\n",
    "import sys\n",
    "!{sys.executable} -m pip install pyeasyga\n",
    "!{sys.executable} -m pip install pandas\n",
    "!{sys.executable} -m pip install random"
   ]
  },
  {
   "cell_type": "markdown",
   "metadata": {},
   "source": [
    "<h2><font color = \"blue\">Knapsack problem</font></h2>\n",
    "\n",
    "<font face = \"Times\">The knapsack problem or rucksack problem is a problem in combinatorial optimization: Given a set of items, each with a weight and a value, determine the number of each item to include in a collection so that the total weight is less than or equal to a given limit and the total value is as large as possible. It derives its name from the problem faced by someone who is constrained by a fixed-size knapsack and must fill it with the most valuable items.\n",
    "\n",
    "The problem often arises in resource allocation where there are financial constraints and is studied in fields such as combinatorics, computer science, complexity theory, cryptography and applied mathematics.\n",
    "\n",
    "<img src = \"https://upload.wikimedia.org/wikipedia/commons/thumb/f/fd/Knapsack.svg/1024px-Knapsack.svg.png\" height=30% width=30%>\n",
    "\n",
    "<i>Source: Wikipedia</i></font>"
   ]
  },
  {
   "cell_type": "code",
   "execution_count": 456,
   "metadata": {},
   "outputs": [
    {
     "data": {
      "text/html": [
       "<div>\n",
       "<style scoped>\n",
       "    .dataframe tbody tr th:only-of-type {\n",
       "        vertical-align: middle;\n",
       "    }\n",
       "\n",
       "    .dataframe tbody tr th {\n",
       "        vertical-align: top;\n",
       "    }\n",
       "\n",
       "    .dataframe thead th {\n",
       "        text-align: right;\n",
       "    }\n",
       "</style>\n",
       "<table border=\"1\" class=\"dataframe\">\n",
       "  <thead>\n",
       "    <tr style=\"text-align: right;\">\n",
       "      <th></th>\n",
       "      <th>Item</th>\n",
       "      <th>Qty</th>\n",
       "      <th>Value</th>\n",
       "      <th>Weight</th>\n",
       "    </tr>\n",
       "  </thead>\n",
       "  <tbody>\n",
       "    <tr>\n",
       "      <th>0</th>\n",
       "      <td>item 1</td>\n",
       "      <td>0.0</td>\n",
       "      <td>0.0</td>\n",
       "      <td>0.0</td>\n",
       "    </tr>\n",
       "    <tr>\n",
       "      <th>1</th>\n",
       "      <td>item 2</td>\n",
       "      <td>3.0</td>\n",
       "      <td>6.0</td>\n",
       "      <td>3.0</td>\n",
       "    </tr>\n",
       "    <tr>\n",
       "      <th>2</th>\n",
       "      <td>item 3</td>\n",
       "      <td>3.0</td>\n",
       "      <td>30.0</td>\n",
       "      <td>12.0</td>\n",
       "    </tr>\n",
       "    <tr>\n",
       "      <th>3</th>\n",
       "      <td>item 4</td>\n",
       "      <td>0.0</td>\n",
       "      <td>0.0</td>\n",
       "      <td>0.0</td>\n",
       "    </tr>\n",
       "    <tr>\n",
       "      <th>4</th>\n",
       "      <td>item 5</td>\n",
       "      <td>0.0</td>\n",
       "      <td>0.0</td>\n",
       "      <td>0.0</td>\n",
       "    </tr>\n",
       "  </tbody>\n",
       "</table>\n",
       "</div>"
      ],
      "text/plain": [
       "     Item  Qty  Value  Weight\n",
       "0  item 1  0.0    0.0     0.0\n",
       "1  item 2  3.0    6.0     3.0\n",
       "2  item 3  3.0   30.0    12.0\n",
       "3  item 4  0.0    0.0     0.0\n",
       "4  item 5  0.0    0.0     0.0"
      ]
     },
     "execution_count": 456,
     "metadata": {},
     "output_type": "execute_result"
    }
   ],
   "source": [
    "from pyeasyga import pyeasyga\n",
    "import pandas as pd\n",
    "import random\n",
    "\n",
    "#Tuple of the items that you can put on the knapsack, considering that you must maximise the \n",
    "#value and attend the constraint of maximum weight for the things you can carry on the knapsck\n",
    "data = [{'name': 'item 1', 'value': 4, 'weight': 12},\n",
    "        {'name': 'item 2', 'value': 2, 'weight': 1},\n",
    "        {'name': 'item 3', 'value': 10, 'weight': 4},\n",
    "        {'name': 'item 4', 'value': 1, 'weight': 1},\n",
    "        {'name': 'item 5', 'value': 2, 'weight': 2}]\n",
    "\n",
    "\n",
    "def genetic():\n",
    "    ga = pyeasyga.GeneticAlgorithm(data,\n",
    "                               population_size=100,\n",
    "                               generations=20,\n",
    "                               crossover_probability=0.15,\n",
    "                               mutation_probability=0.1,\n",
    "                               maximise_fitness=True)\n",
    "\n",
    "    #Here I'm considering that the maximum quantity of each item that I want to test is 10 \n",
    "    def create_individual(data):\n",
    "        return [random.randint(0, 10) for _ in range(len(data))]\n",
    "\n",
    "    ga.create_individual = create_individual\n",
    "\n",
    "    # The fitness function indicates how we evaluate if a solution is good or not\n",
    "    # for unfeasible solutions we penalize it giving a bad grade, in this case 0\n",
    "\n",
    "    def fitness(individual, data):\n",
    "        values, weights = 0, 0\n",
    "        for selected, box in zip(individual, data):\n",
    "            if selected:\n",
    "                values += selected*box.get('value')\n",
    "                weights += selected*box.get('weight')\n",
    "        if weights > max_weight:\n",
    "            values = 0\n",
    "        return values\n",
    "\n",
    "    #The goal is to maximize the value in the knapsack having as constraint the total weight \n",
    "    max_weight = 15\n",
    "\n",
    "    ga.fitness_function = fitness               # set the GA's fitness function\n",
    "    ga.run()                                    # run the GA\n",
    "\n",
    "    df = pd.DataFrame()\n",
    "\n",
    "    for i in range(0,len(data)):\n",
    "        raw_data = {'Item': data[i]['name'], \n",
    "                    'Qty': ga.best_individual()[1][i],\n",
    "                    'Weight': ga.best_individual()[1][i]*data[i]['weight'],\n",
    "                    'Value': ga.best_individual()[1][i]*data[i]['value']}\n",
    "        df = df.append(raw_data, ignore_index=True)\n",
    "\n",
    "    df.style.hide_index()\n",
    "    return df, ga\n",
    "\n",
    "best_config = pd.DataFrame()\n",
    "best_value = 0\n",
    "for i in range(1,100):\n",
    "    df, ga = genetic()\n",
    "    if ga.best_individual()[0] > best_value:\n",
    "        best_value = ga.best_individual()[0]\n",
    "        best_config = df\n",
    "        \n",
    "best_config"
   ]
  },
  {
   "cell_type": "code",
   "execution_count": 457,
   "metadata": {},
   "outputs": [
    {
     "name": "stdout",
     "output_type": "stream",
     "text": [
      "The best configuration has a total value of :  36\n",
      "The best configuration has a total weight of:  15.0\n"
     ]
    }
   ],
   "source": [
    "print(\"The best configuration has a total value of : \", best_value)\n",
    "print(\"The best configuration has a total weight of: \", best_config['Weight'].sum())"
   ]
  },
  {
   "cell_type": "code",
   "execution_count": null,
   "metadata": {},
   "outputs": [],
   "source": []
  }
 ],
 "metadata": {
  "kernelspec": {
   "display_name": "Python 3",
   "language": "python",
   "name": "python3"
  },
  "language_info": {
   "codemirror_mode": {
    "name": "ipython",
    "version": 3
   },
   "file_extension": ".py",
   "mimetype": "text/x-python",
   "name": "python",
   "nbconvert_exporter": "python",
   "pygments_lexer": "ipython3",
   "version": "3.7.6"
  }
 },
 "nbformat": 4,
 "nbformat_minor": 2
}
